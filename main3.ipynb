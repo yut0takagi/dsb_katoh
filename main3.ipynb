{
 "cells": [
  {
   "cell_type": "markdown",
   "id": "f62e491f",
   "metadata": {},
   "source": [
    "# 仮説2の頻度による差の検定"
   ]
  },
  {
   "cell_type": "code",
   "execution_count": 1,
   "id": "03f55ff9",
   "metadata": {},
   "outputs": [],
   "source": [
    "import openpyxl as xl\n",
    "import pandas as pd\n",
    "import numpy as np\n",
    "from scipy import stats\n",
    "import statsmodels.api as sm\n",
    "from statsmodels.formula.api import ols\n",
    "from statsmodels.stats.multicomp import pairwise_tukeyhsd\n",
    "from datetime import datetime\n",
    "from typing import Sequence, Literal, Dict, Any\n",
    "import math"
   ]
  },
  {
   "cell_type": "code",
   "execution_count": 7,
   "id": "2727ea22",
   "metadata": {},
   "outputs": [],
   "source": [
    "\n",
    "#^ モジュール化してインポートしている\n",
    "import ttest\n",
    "import anova"
   ]
  },
  {
   "cell_type": "code",
   "execution_count": 8,
   "id": "414af2cb",
   "metadata": {},
   "outputs": [],
   "source": [
    "wb = xl.load_workbook('20250721.xlsx')\n",
    "sheet_aoi_data = wb['aoi_解析']"
   ]
  },
  {
   "cell_type": "code",
   "execution_count": 10,
   "id": "6242921b",
   "metadata": {},
   "outputs": [
    {
     "name": "stderr",
     "output_type": "stream",
     "text": [
      "<>:2: SyntaxWarning: \"is\" with a literal. Did you mean \"==\"?\n",
      "<>:2: SyntaxWarning: \"is\" with a literal. Did you mean \"==\"?\n",
      "/var/folders/wb/sqvg1jfx4qvbgf2ndb8gt5300000gn/T/ipykernel_74771/2075728589.py:2: SyntaxWarning: \"is\" with a literal. Did you mean \"==\"?\n",
      "  if sheet_aoi_data.cell(row=row, column=3).value is 1:\n"
     ]
    },
    {
     "name": "stdout",
     "output_type": "stream",
     "text": [
      "✅ 結果を保存しました: 1_anova_Tukey_log.txt\n",
      "✅ 結果を保存しました: 1_anova_Tukey_log.txt\n",
      "✅ 結果を保存しました: 1_anova_Tukey_log.txt\n",
      "✅ 結果を保存しました: 1_anova_Tukey_log.txt\n",
      "✅ 結果を保存しました: 1_anova_Tukey_log.txt\n",
      "✅ 結果を保存しました: 1_anova_Tukey_log.txt\n",
      "✅ 結果を保存しました: 1_anova_Tukey_log.txt\n",
      "✅ 結果を保存しました: 1_anova_Tukey_log.txt\n",
      "✅ 結果を保存しました: 1_anova_Tukey_log.txt\n",
      "✅ 結果を保存しました: 1_anova_Tukey_log.txt\n",
      "✅ 結果を保存しました: 1_anova_Tukey_log.txt\n",
      "✅ 結果を保存しました: 1_anova_Tukey_log.txt\n",
      "✅ 結果を保存しました: 1_anova_Tukey_log.txt\n",
      "✅ 結果を保存しました: 1_anova_Tukey_log.txt\n",
      "✅ 結果を保存しました: 1_anova_Tukey_log.txt\n",
      "✅ 結果を保存しました: 1_anova_Tukey_log.txt\n",
      "✅ 結果を保存しました: 1_anova_Tukey_log.txt\n",
      "✅ 結果を保存しました: 1_anova_Tukey_log.txt\n",
      "✅ 結果を保存しました: 1_anova_Tukey_log.txt\n",
      "✅ 結果を保存しました: 1_anova_Tukey_log.txt\n",
      "✅ 結果を保存しました: 1_anova_Tukey_log.txt\n",
      "✅ 結果を保存しました: 1_anova_Tukey_log.txt\n",
      "✅ 結果を保存しました: 1_anova_Tukey_log.txt\n",
      "✅ 結果を保存しました: 1_anova_Tukey_log.txt\n",
      "✅ 結果を保存しました: 1_anova_Tukey_log.txt\n",
      "✅ 結果を保存しました: 1_anova_Tukey_log.txt\n",
      "✅ 結果を保存しました: 1_anova_Tukey_log.txt\n",
      "✅ 結果を保存しました: 1_anova_Tukey_log.txt\n",
      "✅ 結果を保存しました: 1_anova_Tukey_log.txt\n",
      "✅ 結果を保存しました: 1_anova_Tukey_log.txt\n",
      "✅ 結果を保存しました: 1_anova_Tukey_log.txt\n",
      "✅ 結果を保存しました: 1_anova_Tukey_log.txt\n",
      "✅ 結果を保存しました: 1_anova_Tukey_log.txt\n",
      "✅ 結果を保存しました: 1_anova_Tukey_log.txt\n",
      "✅ 結果を保存しました: 1_anova_Tukey_log.txt\n"
     ]
    },
    {
     "name": "stderr",
     "output_type": "stream",
     "text": [
      "/Users/yut0takagi/.local/share/virtualenvs/dsb_katoh-Ys4zl5rU/lib/python3.11/site-packages/statsmodels/base/model.py:1894: ValueWarning: covariance of constraints does not have full rank. The number of constraints is 1, but rank is 0\n",
      "  warnings.warn('covariance of constraints does not have full '\n",
      "/Users/yut0takagi/.local/share/virtualenvs/dsb_katoh-Ys4zl5rU/lib/python3.11/site-packages/statsmodels/base/model.py:1923: RuntimeWarning: invalid value encountered in divide\n",
      "  F /= J\n",
      "/Users/yut0takagi/.local/share/virtualenvs/dsb_katoh-Ys4zl5rU/lib/python3.11/site-packages/statsmodels/sandbox/stats/multicomp.py:1300: RuntimeWarning: invalid value encountered in divide\n",
      "  st_range = np.abs(meandiffs) / std_pairs #studentized range statistic\n"
     ]
    },
    {
     "name": "stdout",
     "output_type": "stream",
     "text": [
      "✅ 結果を保存しました: 1_anova_Tukey_log.txt\n",
      "✅ 結果を保存しました: 1_anova_Tukey_log.txt\n"
     ]
    },
    {
     "name": "stderr",
     "output_type": "stream",
     "text": [
      "/Users/yut0takagi/.local/share/virtualenvs/dsb_katoh-Ys4zl5rU/lib/python3.11/site-packages/statsmodels/base/model.py:1894: ValueWarning: covariance of constraints does not have full rank. The number of constraints is 1, but rank is 0\n",
      "  warnings.warn('covariance of constraints does not have full '\n",
      "/Users/yut0takagi/.local/share/virtualenvs/dsb_katoh-Ys4zl5rU/lib/python3.11/site-packages/statsmodels/base/model.py:1923: RuntimeWarning: invalid value encountered in divide\n",
      "  F /= J\n",
      "/Users/yut0takagi/.local/share/virtualenvs/dsb_katoh-Ys4zl5rU/lib/python3.11/site-packages/statsmodels/sandbox/stats/multicomp.py:1300: RuntimeWarning: invalid value encountered in divide\n",
      "  st_range = np.abs(meandiffs) / std_pairs #studentized range statistic\n"
     ]
    },
    {
     "name": "stdout",
     "output_type": "stream",
     "text": [
      "✅ 結果を保存しました: 1_anova_Tukey_log.txt\n",
      "✅ 結果を保存しました: 1_anova_Tukey_log.txt\n",
      "✅ 結果を保存しました: 1_anova_Tukey_log.txt\n",
      "✅ 結果を保存しました: 1_anova_Tukey_log.txt\n",
      "✅ 結果を保存しました: 1_anova_Tukey_log.txt\n",
      "✅ 結果を保存しました: 1_anova_Tukey_log.txt\n",
      "✅ 結果を保存しました: 1_anova_Tukey_log.txt\n",
      "✅ 結果を保存しました: 1_anova_Tukey_log.txt\n",
      "✅ 結果を保存しました: 1_anova_Tukey_log.txt\n",
      "✅ 結果を保存しました: 1_anova_Tukey_log.txt\n",
      "✅ 結果を保存しました: 1_anova_Tukey_log.txt\n",
      "✅ 結果を保存しました: 1_anova_Tukey_log.txt\n",
      "✅ 結果を保存しました: 1_anova_Tukey_log.txt\n",
      "✅ 結果を保存しました: 1_anova_Tukey_log.txt\n",
      "✅ 結果を保存しました: 1_anova_Tukey_log.txt\n",
      "✅ 結果を保存しました: 1_anova_Tukey_log.txt\n",
      "✅ 結果を保存しました: 1_anova_Tukey_log.txt\n",
      "✅ 結果を保存しました: 1_anova_Tukey_log.txt\n",
      "✅ 結果を保存しました: 1_anova_Tukey_log.txt\n",
      "✅ 結果を保存しました: 1_anova_Tukey_log.txt\n",
      "✅ 結果を保存しました: 1_anova_Tukey_log.txt\n",
      "✅ 結果を保存しました: 1_anova_Tukey_log.txt\n",
      "✅ 結果を保存しました: 1_anova_Tukey_log.txt\n",
      "✅ 結果を保存しました: 1_anova_Tukey_log.txt\n",
      "✅ 結果を保存しました: 1_anova_Tukey_log.txt\n",
      "✅ 結果を保存しました: 1_anova_Tukey_log.txt\n",
      "✅ 結果を保存しました: 1_anova_Tukey_log.txt\n",
      "✅ 結果を保存しました: 1_anova_Tukey_log.txt\n",
      "✅ 結果を保存しました: 1_anova_Tukey_log.txt\n",
      "✅ 結果を保存しました: 1_anova_Tukey_log.txt\n",
      "✅ 結果を保存しました: 1_anova_Tukey_log.txt\n",
      "✅ 結果を保存しました: 1_anova_Tukey_log.txt\n",
      "✅ 結果を保存しました: 1_anova_Tukey_log.txt\n",
      "✅ 結果を保存しました: 1_anova_Tukey_log.txt\n",
      "✅ 結果を保存しました: 1_anova_Tukey_log.txt\n",
      "✅ 結果を保存しました: 1_anova_Tukey_log.txt\n",
      "✅ 結果を保存しました: 1_anova_Tukey_log.txt\n",
      "✅ 結果を保存しました: 1_anova_Tukey_log.txt\n"
     ]
    },
    {
     "name": "stderr",
     "output_type": "stream",
     "text": [
      "/Users/yut0takagi/.local/share/virtualenvs/dsb_katoh-Ys4zl5rU/lib/python3.11/site-packages/statsmodels/base/model.py:1894: ValueWarning: covariance of constraints does not have full rank. The number of constraints is 1, but rank is 0\n",
      "  warnings.warn('covariance of constraints does not have full '\n",
      "/Users/yut0takagi/.local/share/virtualenvs/dsb_katoh-Ys4zl5rU/lib/python3.11/site-packages/statsmodels/base/model.py:1923: RuntimeWarning: invalid value encountered in divide\n",
      "  F /= J\n",
      "/Users/yut0takagi/.local/share/virtualenvs/dsb_katoh-Ys4zl5rU/lib/python3.11/site-packages/statsmodels/sandbox/stats/multicomp.py:1300: RuntimeWarning: invalid value encountered in divide\n",
      "  st_range = np.abs(meandiffs) / std_pairs #studentized range statistic\n"
     ]
    },
    {
     "name": "stdout",
     "output_type": "stream",
     "text": [
      "✅ 結果を保存しました: 1_anova_Tukey_log.txt\n",
      "✅ 結果を保存しました: 1_anova_Tukey_log.txt\n"
     ]
    },
    {
     "name": "stderr",
     "output_type": "stream",
     "text": [
      "/Users/yut0takagi/.local/share/virtualenvs/dsb_katoh-Ys4zl5rU/lib/python3.11/site-packages/statsmodels/base/model.py:1894: ValueWarning: covariance of constraints does not have full rank. The number of constraints is 1, but rank is 0\n",
      "  warnings.warn('covariance of constraints does not have full '\n",
      "/Users/yut0takagi/.local/share/virtualenvs/dsb_katoh-Ys4zl5rU/lib/python3.11/site-packages/statsmodels/base/model.py:1923: RuntimeWarning: invalid value encountered in divide\n",
      "  F /= J\n",
      "/Users/yut0takagi/.local/share/virtualenvs/dsb_katoh-Ys4zl5rU/lib/python3.11/site-packages/statsmodels/sandbox/stats/multicomp.py:1300: RuntimeWarning: invalid value encountered in divide\n",
      "  st_range = np.abs(meandiffs) / std_pairs #studentized range statistic\n"
     ]
    },
    {
     "name": "stdout",
     "output_type": "stream",
     "text": [
      "✅ 結果を保存しました: 1_anova_Tukey_log.txt\n",
      "✅ 結果を保存しました: 1_anova_Tukey_log.txt\n",
      "✅ 結果を保存しました: 1_anova_Tukey_log.txt\n",
      "✅ 結果を保存しました: 1_anova_Tukey_log.txt\n",
      "✅ 結果を保存しました: 1_anova_Tukey_log.txt\n",
      "✅ 結果を保存しました: 1_anova_Tukey_log.txt\n",
      "✅ 結果を保存しました: 1_anova_Tukey_log.txt\n"
     ]
    }
   ],
   "source": [
    "for row in range(2,422):\n",
    "    if sheet_aoi_data.cell(row=row, column=3).value is 1:\n",
    "        data_1, data_0 = [], []\n",
    "        pjt = sheet_aoi_data.cell(row=row, column=1).value\n",
    "        aoi = sheet_aoi_data.cell(row=row, column=2).value\n",
    "        for row_1 in range(5):\n",
    "            #~ 高頻度群\n",
    "            data_1.append(sheet_aoi_data.cell(row=row +row_1, column=5).value)\n",
    "            #~ 低頻度群\n",
    "            data_0.append(sheet_aoi_data.cell(row=row +row_1, column=4).value)\n",
    "        anova.run_anova_from_lists(group_data={\n",
    "            \"高頻度群\":data_1,\n",
    "            \"低頻度群\" :data_0\n",
    "        }, \n",
    "                                   pjt=pjt+\"_\"+aoi,\n",
    "                                   filename_prefix=\"anova_result_仮説2_頻度による差の分散分析結果\")"
   ]
  },
  {
   "cell_type": "code",
   "execution_count": null,
   "id": "bd69570e",
   "metadata": {},
   "outputs": [],
   "source": []
  }
 ],
 "metadata": {
  "kernelspec": {
   "display_name": "dsb_katoh-Ys4zl5rU",
   "language": "python",
   "name": "python3"
  },
  "language_info": {
   "codemirror_mode": {
    "name": "ipython",
    "version": 3
   },
   "file_extension": ".py",
   "mimetype": "text/x-python",
   "name": "python",
   "nbconvert_exporter": "python",
   "pygments_lexer": "ipython3",
   "version": "3.11.7"
  }
 },
 "nbformat": 4,
 "nbformat_minor": 5
}
